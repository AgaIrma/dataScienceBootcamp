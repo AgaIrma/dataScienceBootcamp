{
 "cells": [
  {
   "cell_type": "markdown",
   "id": "eea0ab16",
   "metadata": {},
   "source": [
    "# używamy słowa def"
   ]
  },
  {
   "cell_type": "code",
   "execution_count": 1,
   "id": "3c54f4fc",
   "metadata": {},
   "outputs": [],
   "source": [
    "def adding_func(a,b):\n",
    "    return a+b"
   ]
  },
  {
   "cell_type": "code",
   "execution_count": null,
   "id": "982ecf4e",
   "metadata": {},
   "outputs": [],
   "source": [
    "    "
   ]
  },
  {
   "cell_type": "markdown",
   "id": "9930bb1d",
   "metadata": {},
   "source": [
    "# wywołujemy funkcję poprzez podanie nazwy funkcji i użycie nawiasów okrągłych"
   ]
  },
  {
   "cell_type": "code",
   "execution_count": 3,
   "id": "7aebe57f",
   "metadata": {},
   "outputs": [
    {
     "name": "stdout",
     "output_type": "stream",
     "text": [
      "Wynik dodawania wynosi 10\n"
     ]
    }
   ],
   "source": [
    "result = adding_func(5,5)\n",
    "print(f\"Wynik dodawania wynosi {result}\") "
   ]
  },
  {
   "cell_type": "code",
   "execution_count": null,
   "id": "68a85ff9",
   "metadata": {},
   "outputs": [],
   "source": []
  },
  {
   "cell_type": "code",
   "execution_count": null,
   "id": "973e7eb0",
   "metadata": {},
   "outputs": [],
   "source": []
  }
 ],
 "metadata": {
  "kernelspec": {
   "display_name": "Python 3 (ipykernel)",
   "language": "python",
   "name": "python3"
  },
  "language_info": {
   "codemirror_mode": {
    "name": "ipython",
    "version": 3
   },
   "file_extension": ".py",
   "mimetype": "text/x-python",
   "name": "python",
   "nbconvert_exporter": "python",
   "pygments_lexer": "ipython3",
   "version": "3.10.5"
  }
 },
 "nbformat": 4,
 "nbformat_minor": 5
}
