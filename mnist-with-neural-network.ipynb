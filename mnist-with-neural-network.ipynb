{
 "cells": [
  {
   "cell_type": "code",
   "execution_count": 1,
   "id": "46ea121e",
   "metadata": {
    "_cell_guid": "b1076dfc-b9ad-4769-8c92-a6c4dae69d19",
    "_uuid": "8f2839f25d086af736a60e9eeb907d3b93b6e0e5",
    "execution": {
     "iopub.execute_input": "2022-11-14T13:40:10.257197Z",
     "iopub.status.busy": "2022-11-14T13:40:10.256727Z",
     "iopub.status.idle": "2022-11-14T13:40:10.278345Z",
     "shell.execute_reply": "2022-11-14T13:40:10.277453Z"
    },
    "papermill": {
     "duration": 0.035902,
     "end_time": "2022-11-14T13:40:10.280916",
     "exception": false,
     "start_time": "2022-11-14T13:40:10.245014",
     "status": "completed"
    },
    "tags": []
   },
   "outputs": [
    {
     "name": "stdout",
     "output_type": "stream",
     "text": [
      "/kaggle/input/chinese-mnist-digit-recognizer/chineseMNIST.csv\n",
      "/kaggle/input/digit-recognizer/sample_submission.csv\n",
      "/kaggle/input/digit-recognizer/train.csv\n",
      "/kaggle/input/digit-recognizer/test.csv\n",
      "/kaggle/input/fashionmnist/t10k-labels-idx1-ubyte\n",
      "/kaggle/input/fashionmnist/t10k-images-idx3-ubyte\n",
      "/kaggle/input/fashionmnist/fashion-mnist_test.csv\n",
      "/kaggle/input/fashionmnist/fashion-mnist_train.csv\n",
      "/kaggle/input/fashionmnist/train-labels-idx1-ubyte\n",
      "/kaggle/input/fashionmnist/train-images-idx3-ubyte\n"
     ]
    }
   ],
   "source": [
    "# This Python 3 environment comes with many helpful analytics libraries installed\n",
    "# It is defined by the kaggle/python Docker image: https://github.com/kaggle/docker-python\n",
    "# For example, here's several helpful packages to load\n",
    "\n",
    "import numpy as np # linear algebra\n",
    "import pandas as pd # data processing, CSV file I/O (e.g. pd.read_csv)\n",
    "\n",
    "# Input data files are available in the read-only \"../input/\" directory\n",
    "# For example, running this (by clicking run or pressing Shift+Enter) will list all files under the input directory\n",
    "\n",
    "import os\n",
    "for dirname, _, filenames in os.walk('/kaggle/input'):\n",
    "    for filename in filenames:\n",
    "        print(os.path.join(dirname, filename))\n",
    "\n",
    "# You can write up to 20GB to the current directory (/kaggle/working/) that gets preserved as output when you create a version using \"Save & Run All\" \n",
    "# You can also write temporary files to /kaggle/temp/, but they won't be saved outside of the current session"
   ]
  },
  {
   "cell_type": "code",
   "execution_count": 2,
   "id": "6ec90713",
   "metadata": {
    "execution": {
     "iopub.execute_input": "2022-11-14T13:40:10.301300Z",
     "iopub.status.busy": "2022-11-14T13:40:10.300581Z",
     "iopub.status.idle": "2022-11-14T13:40:11.278544Z",
     "shell.execute_reply": "2022-11-14T13:40:11.277419Z"
    },
    "papermill": {
     "duration": 0.990462,
     "end_time": "2022-11-14T13:40:11.280997",
     "exception": false,
     "start_time": "2022-11-14T13:40:10.290535",
     "status": "completed"
    },
    "tags": []
   },
   "outputs": [],
   "source": [
    "import matplotlib.pyplot as plt\n",
    "import seaborn as sns"
   ]
  },
  {
   "cell_type": "code",
   "execution_count": 3,
   "id": "cbf401ad",
   "metadata": {
    "execution": {
     "iopub.execute_input": "2022-11-14T13:40:11.301224Z",
     "iopub.status.busy": "2022-11-14T13:40:11.300500Z",
     "iopub.status.idle": "2022-11-14T13:40:15.094216Z",
     "shell.execute_reply": "2022-11-14T13:40:15.093027Z"
    },
    "papermill": {
     "duration": 3.806394,
     "end_time": "2022-11-14T13:40:15.096596",
     "exception": false,
     "start_time": "2022-11-14T13:40:11.290202",
     "status": "completed"
    },
    "tags": []
   },
   "outputs": [
    {
     "data": {
      "text/plain": [
       "((42000, 784), (42000,))"
      ]
     },
     "execution_count": 3,
     "metadata": {},
     "output_type": "execute_result"
    }
   ],
   "source": [
    "df = pd.read_csv('/kaggle/input/digit-recognizer/train.csv')\n",
    "X = df.drop(columns=['label']).to_numpy()\n",
    "y = df['label'].to_numpy()\n",
    "X.shape , y.shape"
   ]
  },
  {
   "cell_type": "code",
   "execution_count": 4,
   "id": "7ef7ee9e",
   "metadata": {
    "execution": {
     "iopub.execute_input": "2022-11-14T13:40:15.118703Z",
     "iopub.status.busy": "2022-11-14T13:40:15.117735Z",
     "iopub.status.idle": "2022-11-14T13:40:15.197285Z",
     "shell.execute_reply": "2022-11-14T13:40:15.196243Z"
    },
    "papermill": {
     "duration": 0.093945,
     "end_time": "2022-11-14T13:40:15.199626",
     "exception": false,
     "start_time": "2022-11-14T13:40:15.105681",
     "status": "completed"
    },
    "tags": []
   },
   "outputs": [
    {
     "data": {
      "text/plain": [
       "(0, 255)"
      ]
     },
     "execution_count": 4,
     "metadata": {},
     "output_type": "execute_result"
    }
   ],
   "source": [
    "X.min() , X.max()"
   ]
  },
  {
   "cell_type": "code",
   "execution_count": 5,
   "id": "c7e9f919",
   "metadata": {
    "execution": {
     "iopub.execute_input": "2022-11-14T13:40:15.219658Z",
     "iopub.status.busy": "2022-11-14T13:40:15.219302Z",
     "iopub.status.idle": "2022-11-14T13:40:15.365106Z",
     "shell.execute_reply": "2022-11-14T13:40:15.363449Z"
    },
    "papermill": {
     "duration": 0.16052,
     "end_time": "2022-11-14T13:40:15.369403",
     "exception": false,
     "start_time": "2022-11-14T13:40:15.208883",
     "status": "completed"
    },
    "tags": []
   },
   "outputs": [
    {
     "data": {
      "image/png": "[encoded data removed]",
      "text/plain": [
       "<Figure size 576x576 with 1 Axes>"
      ]
     },
     "metadata": {},
     "output_type": "display_data"
    }
   ],
   "source": [
    "plt.figure(figsize=(8,8))\n",
    "plt.imshow(X[36,:].reshape((28,28)),cmap='gray')\n",
    "plt.xticks([])\n",
    "plt.yticks([]);"
   ]
  },
  {
   "cell_type": "code",
   "execution_count": 6,
   "id": "15ba30f2",
   "metadata": {
    "execution": {
     "iopub.execute_input": "2022-11-14T13:40:15.417193Z",
     "iopub.status.busy": "2022-11-14T13:40:15.416240Z",
     "iopub.status.idle": "2022-11-14T13:40:20.608249Z",
     "shell.execute_reply": "2022-11-14T13:40:20.607078Z"
    },
    "papermill": {
     "duration": 5.216483,
     "end_time": "2022-11-14T13:40:20.610940",
     "exception": false,
     "start_time": "2022-11-14T13:40:15.394457",
     "status": "completed"
    },
    "tags": []
   },
   "outputs": [],
   "source": [
    "import tensorflow as tf\n",
    "from tensorflow import keras\n",
    "from sklearn.preprocessing import MinMaxScaler\n",
    "from sklearn.model_selection import train_test_split"
   ]
  },
  {
   "cell_type": "code",
   "execution_count": 7,
   "id": "d063d9c4",
   "metadata": {
    "execution": {
     "iopub.execute_input": "2022-11-14T13:40:20.632101Z",
     "iopub.status.busy": "2022-11-14T13:40:20.631436Z",
     "iopub.status.idle": "2022-11-14T13:40:21.095362Z",
     "shell.execute_reply": "2022-11-14T13:40:21.094173Z"
    },
    "papermill": {
     "duration": 0.476968,
     "end_time": "2022-11-14T13:40:21.097690",
     "exception": false,
     "start_time": "2022-11-14T13:40:20.620722",
     "status": "completed"
    },
    "tags": []
   },
   "outputs": [
    {
     "data": {
      "text/plain": [
       "(0.0, 1.0)"
      ]
     },
     "execution_count": 7,
     "metadata": {},
     "output_type": "execute_result"
    }
   ],
   "source": [
    "X_scaled = MinMaxScaler().fit_transform(X)\n",
    "X_scaled.min(), X_scaled.max()"
   ]
  },
  {
   "cell_type": "code",
   "execution_count": 8,
   "id": "13c09a54",
   "metadata": {
    "execution": {
     "iopub.execute_input": "2022-11-14T13:40:21.118130Z",
     "iopub.status.busy": "2022-11-14T13:40:21.117749Z",
     "iopub.status.idle": "2022-11-14T13:40:21.542131Z",
     "shell.execute_reply": "2022-11-14T13:40:21.540884Z"
    },
    "papermill": {
     "duration": 0.437459,
     "end_time": "2022-11-14T13:40:21.544530",
     "exception": false,
     "start_time": "2022-11-14T13:40:21.107071",
     "status": "completed"
    },
    "tags": []
   },
   "outputs": [
    {
     "data": {
      "text/plain": [
       "((31500, 784), (10500, 784), (31500,), (10500,))"
      ]
     },
     "execution_count": 8,
     "metadata": {},
     "output_type": "execute_result"
    }
   ],
   "source": [
    "X_train, X_test, y_train, y_test = train_test_split(X_scaled,y,train_size=0.75,random_state=234)\n",
    "X_train.shape, X_test.shape, y_train.shape, y_test.shape"
   ]
  },
  {
   "cell_type": "code",
   "execution_count": 9,
   "id": "4cc8f6b5",
   "metadata": {
    "execution": {
     "iopub.execute_input": "2022-11-14T13:40:21.566050Z",
     "iopub.status.busy": "2022-11-14T13:40:21.565635Z",
     "iopub.status.idle": "2022-11-14T13:40:33.609006Z",
     "shell.execute_reply": "2022-11-14T13:40:33.607745Z"
    },
    "papermill": {
     "duration": 12.057086,
     "end_time": "2022-11-14T13:40:33.611551",
     "exception": false,
     "start_time": "2022-11-14T13:40:21.554465",
     "status": "completed"
    },
    "tags": []
   },
   "outputs": [
    {
     "name": "stderr",
     "output_type": "stream",
     "text": [
      "2022-11-14 13:40:22.646489: I tensorflow/core/common_runtime/process_util.cc:146] Creating new thread pool with default inter op setting: 2. Tune using inter_op_parallelism_threads for best performance.\n",
      "2022-11-14 13:40:22.950471: I tensorflow/compiler/mlir/mlir_graph_optimization_pass.cc:185] None of the MLIR Optimization Passes are enabled (registered 2)\n"
     ]
    },
    {
     "name": "stdout",
     "output_type": "stream",
     "text": [
      "Epoch 1/5\n",
      "985/985 [==============================] - 2s 1ms/step - loss: 0.5882 - accuracy: 0.8485\n",
      "Epoch 2/5\n",
      "985/985 [==============================] - 2s 2ms/step - loss: 0.3340 - accuracy: 0.9068\n",
      "Epoch 3/5\n",
      "985/985 [==============================] - 2s 2ms/step - loss: 0.3000 - accuracy: 0.9150\n",
      "Epoch 4/5\n",
      "985/985 [==============================] - 1s 1ms/step - loss: 0.2835 - accuracy: 0.9211\n",
      "Epoch 5/5\n",
      "985/985 [==============================] - 1s 1ms/step - loss: 0.2724 - accuracy: 0.9232\n"
     ]
    },
    {
     "data": {
      "text/plain": [
       "<keras.callbacks.History at 0x7f394c2fd210>"
      ]
     },
     "execution_count": 9,
     "metadata": {},
     "output_type": "execute_result"
    }
   ],
   "source": [
    "model = keras.Sequential([\n",
    "    keras.layers.Dense(10, input_shape=(784,), activation='sigmoid')\n",
    "])\n",
    "\n",
    "\n",
    "model.compile(optimizer='adam',loss='sparse_categorical_crossentropy',metrics=['accuracy'])\n",
    "\n",
    "\n",
    "model.fit(X_train,y_train,epochs=5)"
   ]
  },
  {
   "cell_type": "code",
   "execution_count": 10,
   "id": "8190a1e2",
   "metadata": {
    "execution": {
     "iopub.execute_input": "2022-11-14T13:40:33.653875Z",
     "iopub.status.busy": "2022-11-14T13:40:33.653467Z",
     "iopub.status.idle": "2022-11-14T13:40:34.274477Z",
     "shell.execute_reply": "2022-11-14T13:40:34.273450Z"
    },
    "papermill": {
     "duration": 0.644566,
     "end_time": "2022-11-14T13:40:34.276686",
     "exception": false,
     "start_time": "2022-11-14T13:40:33.632120",
     "status": "completed"
    },
    "tags": []
   },
   "outputs": [
    {
     "name": "stdout",
     "output_type": "stream",
     "text": [
      "329/329 [==============================] - 1s 1ms/step - loss: 0.2802 - accuracy: 0.9245\n"
     ]
    },
    {
     "data": {
      "text/plain": [
       "[0.28021734952926636, 0.9244762063026428]"
      ]
     },
     "execution_count": 10,
     "metadata": {},
     "output_type": "execute_result"
    }
   ],
   "source": [
    "model.evaluate(X_test,y_test)"
   ]
  },
  {
   "cell_type": "code",
   "execution_count": 11,
   "id": "f50892e3",
   "metadata": {
    "execution": {
     "iopub.execute_input": "2022-11-14T13:40:34.319059Z",
     "iopub.status.busy": "2022-11-14T13:40:34.318635Z",
     "iopub.status.idle": "2022-11-14T13:40:46.746766Z",
     "shell.execute_reply": "2022-11-14T13:40:46.745863Z"
    },
    "papermill": {
     "duration": 12.4519,
     "end_time": "2022-11-14T13:40:46.748890",
     "exception": false,
     "start_time": "2022-11-14T13:40:34.296990",
     "status": "completed"
    },
    "tags": []
   },
   "outputs": [
    {
     "name": "stdout",
     "output_type": "stream",
     "text": [
      "Epoch 1/5\n",
      "985/985 [==============================] - 3s 2ms/step - loss: 0.3180 - accuracy: 0.9066\n",
      "Epoch 2/5\n",
      "985/985 [==============================] - 2s 2ms/step - loss: 0.1328 - accuracy: 0.9590\n",
      "Epoch 3/5\n",
      "985/985 [==============================] - 2s 2ms/step - loss: 0.0914 - accuracy: 0.9719\n",
      "Epoch 4/5\n",
      "985/985 [==============================] - 2s 2ms/step - loss: 0.0658 - accuracy: 0.9790\n",
      "Epoch 5/5\n",
      "985/985 [==============================] - 2s 2ms/step - loss: 0.0491 - accuracy: 0.9840\n"
     ]
    },
    {
     "data": {
      "text/plain": [
       "<keras.callbacks.History at 0x7f392bfb65d0>"
      ]
     },
     "execution_count": 11,
     "metadata": {},
     "output_type": "execute_result"
    }
   ],
   "source": [
    "model2 = keras.Sequential([\n",
    "    keras.layers.Dense(100, input_shape=(784,), activation='relu'),\n",
    "    keras.layers.Dense(100,activation='relu'),\n",
    "    keras.layers.Dense(10,activation='softmax')\n",
    "])\n",
    "\n",
    "\n",
    "model2.compile(optimizer='adam',loss='sparse_categorical_crossentropy',metrics=['accuracy'])\n",
    "\n",
    "\n",
    "model2.fit(X_train,y_train,epochs=5)"
   ]
  },
  {
   "cell_type": "code",
   "execution_count": 12,
   "id": "2dbb0259",
   "metadata": {
    "execution": {
     "iopub.execute_input": "2022-11-14T13:40:46.821108Z",
     "iopub.status.busy": "2022-11-14T13:40:46.819938Z",
     "iopub.status.idle": "2022-11-14T13:40:47.638338Z",
     "shell.execute_reply": "2022-11-14T13:40:47.637023Z"
    },
    "papermill": {
     "duration": 0.856422,
     "end_time": "2022-11-14T13:40:47.640798",
     "exception": false,
     "start_time": "2022-11-14T13:40:46.784376",
     "status": "completed"
    },
    "tags": []
   },
   "outputs": [
    {
     "name": "stdout",
     "output_type": "stream",
     "text": [
      "329/329 [==============================] - 1s 2ms/step - loss: 0.1029 - accuracy: 0.9701\n"
     ]
    },
    {
     "data": {
      "text/plain": [
       "[0.10287682712078094, 0.9700952172279358]"
      ]
     },
     "execution_count": 12,
     "metadata": {},
     "output_type": "execute_result"
    }
   ],
   "source": [
    "model2.evaluate(X_test,y_test)"
   ]
  },
  {
   "cell_type": "code",
   "execution_count": 13,
   "id": "4c2ed868",
   "metadata": {
    "execution": {
     "iopub.execute_input": "2022-11-14T13:40:47.713103Z",
     "iopub.status.busy": "2022-11-14T13:40:47.712631Z",
     "iopub.status.idle": "2022-11-14T13:40:48.268855Z",
     "shell.execute_reply": "2022-11-14T13:40:48.267913Z"
    },
    "papermill": {
     "duration": 0.595248,
     "end_time": "2022-11-14T13:40:48.271404",
     "exception": false,
     "start_time": "2022-11-14T13:40:47.676156",
     "status": "completed"
    },
    "tags": []
   },
   "outputs": [],
   "source": [
    "y_predict = [np.argmax(i) for i in model2.predict(X_test)]"
   ]
  },
  {
   "cell_type": "code",
   "execution_count": 14,
   "id": "838c6fb3",
   "metadata": {
    "execution": {
     "iopub.execute_input": "2022-11-14T13:40:48.345164Z",
     "iopub.status.busy": "2022-11-14T13:40:48.344556Z",
     "iopub.status.idle": "2022-11-14T13:40:48.372719Z",
     "shell.execute_reply": "2022-11-14T13:40:48.371808Z"
    },
    "papermill": {
     "duration": 0.067848,
     "end_time": "2022-11-14T13:40:48.375227",
     "exception": false,
     "start_time": "2022-11-14T13:40:48.307379",
     "status": "completed"
    },
    "tags": []
   },
   "outputs": [],
   "source": [
    "confusion_matrix = tf.math.confusion_matrix(labels=y_test,predictions=y_predict)"
   ]
  },
  {
   "cell_type": "code",
   "execution_count": 15,
   "id": "85c1d1a9",
   "metadata": {
    "execution": {
     "iopub.execute_input": "2022-11-14T13:40:48.447927Z",
     "iopub.status.busy": "2022-11-14T13:40:48.447335Z",
     "iopub.status.idle": "2022-11-14T13:40:49.161960Z",
     "shell.execute_reply": "2022-11-14T13:40:49.161115Z"
    },
    "papermill": {
     "duration": 0.753465,
     "end_time": "2022-11-14T13:40:49.164105",
     "exception": false,
     "start_time": "2022-11-14T13:40:48.410640",
     "status": "completed"
    },
    "tags": []
   },
   "outputs": [
    {
     "data": {
      "image/png": "[encoded data removed]",
      "text/plain": [
       "<Figure size 720x576 with 2 Axes>"
      ]
     },
     "metadata": {
      "needs_background": "light"
     },
     "output_type": "display_data"
    }
   ],
   "source": [
    "plt.figure(figsize=(10,8))\n",
    "sns.heatmap(confusion_matrix,annot=True)\n",
    "plt.xlabel('Predicted')\n",
    "plt.ylabel('Truth');\n"
   ]
  },
  {
   "cell_type": "code",
   "execution_count": 16,
   "id": "2a787d78",
   "metadata": {
    "execution": {
     "iopub.execute_input": "2022-11-14T13:40:49.239796Z",
     "iopub.status.busy": "2022-11-14T13:40:49.239206Z",
     "iopub.status.idle": "2022-11-14T13:40:59.197491Z",
     "shell.execute_reply": "2022-11-14T13:40:59.196357Z"
    },
    "papermill": {
     "duration": 9.999305,
     "end_time": "2022-11-14T13:40:59.200128",
     "exception": false,
     "start_time": "2022-11-14T13:40:49.200823",
     "status": "completed"
    },
    "tags": []
   },
   "outputs": [
    {
     "data": {
      "text/html": [
       "<div>\n",
       "<style scoped>\n",
       "    .dataframe tbody tr th:only-of-type {\n",
       "        vertical-align: middle;\n",
       "    }\n",
       "\n",
       "    .dataframe tbody tr th {\n",
       "        vertical-align: top;\n",
       "    }\n",
       "\n",
       "    .dataframe thead th {\n",
       "        text-align: right;\n",
       "    }\n",
       "</style>\n",
       "<table border=\"1\" class=\"dataframe\">\n",
       "  <thead>\n",
       "    <tr style=\"text-align: right;\">\n",
       "      <th></th>\n",
       "      <th>pixel_0</th>\n",
       "      <th>pixel_1</th>\n",
       "      <th>pixel_2</th>\n",
       "      <th>pixel_3</th>\n",
       "      <th>pixel_4</th>\n",
       "      <th>pixel_5</th>\n",
       "      <th>pixel_6</th>\n",
       "      <th>pixel_7</th>\n",
       "      <th>pixel_8</th>\n",
       "      <th>pixel_9</th>\n",
       "      <th>...</th>\n",
       "      <th>pixel_4088</th>\n",
       "      <th>pixel_4089</th>\n",
       "      <th>pixel_4090</th>\n",
       "      <th>pixel_4091</th>\n",
       "      <th>pixel_4092</th>\n",
       "      <th>pixel_4093</th>\n",
       "      <th>pixel_4094</th>\n",
       "      <th>pixel_4095</th>\n",
       "      <th>label</th>\n",
       "      <th>character</th>\n",
       "    </tr>\n",
       "  </thead>\n",
       "  <tbody>\n",
       "    <tr>\n",
       "      <th>0</th>\n",
       "      <td>0</td>\n",
       "      <td>0</td>\n",
       "      <td>0</td>\n",
       "      <td>0</td>\n",
       "      <td>0</td>\n",
       "      <td>0</td>\n",
       "      <td>0</td>\n",
       "      <td>0</td>\n",
       "      <td>0</td>\n",
       "      <td>0</td>\n",
       "      <td>...</td>\n",
       "      <td>0</td>\n",
       "      <td>0</td>\n",
       "      <td>0</td>\n",
       "      <td>0</td>\n",
       "      <td>0</td>\n",
       "      <td>0</td>\n",
       "      <td>0</td>\n",
       "      <td>0</td>\n",
       "      <td>9</td>\n",
       "      <td>九</td>\n",
       "    </tr>\n",
       "    <tr>\n",
       "      <th>1</th>\n",
       "      <td>0</td>\n",
       "      <td>0</td>\n",
       "      <td>0</td>\n",
       "      <td>0</td>\n",
       "      <td>0</td>\n",
       "      <td>0</td>\n",
       "      <td>0</td>\n",
       "      <td>0</td>\n",
       "      <td>0</td>\n",
       "      <td>0</td>\n",
       "      <td>...</td>\n",
       "      <td>0</td>\n",
       "      <td>0</td>\n",
       "      <td>0</td>\n",
       "      <td>0</td>\n",
       "      <td>0</td>\n",
       "      <td>0</td>\n",
       "      <td>0</td>\n",
       "      <td>0</td>\n",
       "      <td>9</td>\n",
       "      <td>九</td>\n",
       "    </tr>\n",
       "    <tr>\n",
       "      <th>2</th>\n",
       "      <td>0</td>\n",
       "      <td>0</td>\n",
       "      <td>0</td>\n",
       "      <td>0</td>\n",
       "      <td>0</td>\n",
       "      <td>0</td>\n",
       "      <td>0</td>\n",
       "      <td>0</td>\n",
       "      <td>0</td>\n",
       "      <td>0</td>\n",
       "      <td>...</td>\n",
       "      <td>0</td>\n",
       "      <td>0</td>\n",
       "      <td>0</td>\n",
       "      <td>0</td>\n",
       "      <td>0</td>\n",
       "      <td>0</td>\n",
       "      <td>0</td>\n",
       "      <td>0</td>\n",
       "      <td>9</td>\n",
       "      <td>九</td>\n",
       "    </tr>\n",
       "    <tr>\n",
       "      <th>3</th>\n",
       "      <td>0</td>\n",
       "      <td>0</td>\n",
       "      <td>0</td>\n",
       "      <td>0</td>\n",
       "      <td>0</td>\n",
       "      <td>0</td>\n",
       "      <td>0</td>\n",
       "      <td>0</td>\n",
       "      <td>0</td>\n",
       "      <td>0</td>\n",
       "      <td>...</td>\n",
       "      <td>0</td>\n",
       "      <td>0</td>\n",
       "      <td>0</td>\n",
       "      <td>0</td>\n",
       "      <td>0</td>\n",
       "      <td>0</td>\n",
       "      <td>0</td>\n",
       "      <td>0</td>\n",
       "      <td>9</td>\n",
       "      <td>九</td>\n",
       "    </tr>\n",
       "    <tr>\n",
       "      <th>4</th>\n",
       "      <td>0</td>\n",
       "      <td>0</td>\n",
       "      <td>0</td>\n",
       "      <td>0</td>\n",
       "      <td>0</td>\n",
       "      <td>0</td>\n",
       "      <td>0</td>\n",
       "      <td>0</td>\n",
       "      <td>0</td>\n",
       "      <td>0</td>\n",
       "      <td>...</td>\n",
       "      <td>0</td>\n",
       "      <td>0</td>\n",
       "      <td>0</td>\n",
       "      <td>0</td>\n",
       "      <td>0</td>\n",
       "      <td>0</td>\n",
       "      <td>0</td>\n",
       "      <td>0</td>\n",
       "      <td>9</td>\n",
       "      <td>九</td>\n",
       "    </tr>\n",
       "    <tr>\n",
       "      <th>...</th>\n",
       "      <td>...</td>\n",
       "      <td>...</td>\n",
       "      <td>...</td>\n",
       "      <td>...</td>\n",
       "      <td>...</td>\n",
       "      <td>...</td>\n",
       "      <td>...</td>\n",
       "      <td>...</td>\n",
       "      <td>...</td>\n",
       "      <td>...</td>\n",
       "      <td>...</td>\n",
       "      <td>...</td>\n",
       "      <td>...</td>\n",
       "      <td>...</td>\n",
       "      <td>...</td>\n",
       "      <td>...</td>\n",
       "      <td>...</td>\n",
       "      <td>...</td>\n",
       "      <td>...</td>\n",
       "      <td>...</td>\n",
       "      <td>...</td>\n",
       "    </tr>\n",
       "    <tr>\n",
       "      <th>14995</th>\n",
       "      <td>0</td>\n",
       "      <td>0</td>\n",
       "      <td>0</td>\n",
       "      <td>0</td>\n",
       "      <td>0</td>\n",
       "      <td>0</td>\n",
       "      <td>0</td>\n",
       "      <td>0</td>\n",
       "      <td>0</td>\n",
       "      <td>0</td>\n",
       "      <td>...</td>\n",
       "      <td>0</td>\n",
       "      <td>0</td>\n",
       "      <td>0</td>\n",
       "      <td>0</td>\n",
       "      <td>0</td>\n",
       "      <td>0</td>\n",
       "      <td>0</td>\n",
       "      <td>0</td>\n",
       "      <td>8</td>\n",
       "      <td>八</td>\n",
       "    </tr>\n",
       "    <tr>\n",
       "      <th>14996</th>\n",
       "      <td>0</td>\n",
       "      <td>0</td>\n",
       "      <td>0</td>\n",
       "      <td>0</td>\n",
       "      <td>0</td>\n",
       "      <td>0</td>\n",
       "      <td>0</td>\n",
       "      <td>0</td>\n",
       "      <td>0</td>\n",
       "      <td>0</td>\n",
       "      <td>...</td>\n",
       "      <td>0</td>\n",
       "      <td>0</td>\n",
       "      <td>0</td>\n",
       "      <td>0</td>\n",
       "      <td>0</td>\n",
       "      <td>0</td>\n",
       "      <td>0</td>\n",
       "      <td>0</td>\n",
       "      <td>8</td>\n",
       "      <td>八</td>\n",
       "    </tr>\n",
       "    <tr>\n",
       "      <th>14997</th>\n",
       "      <td>0</td>\n",
       "      <td>0</td>\n",
       "      <td>0</td>\n",
       "      <td>0</td>\n",
       "      <td>0</td>\n",
       "      <td>0</td>\n",
       "      <td>0</td>\n",
       "      <td>0</td>\n",
       "      <td>0</td>\n",
       "      <td>0</td>\n",
       "      <td>...</td>\n",
       "      <td>0</td>\n",
       "      <td>0</td>\n",
       "      <td>0</td>\n",
       "      <td>0</td>\n",
       "      <td>0</td>\n",
       "      <td>0</td>\n",
       "      <td>0</td>\n",
       "      <td>0</td>\n",
       "      <td>8</td>\n",
       "      <td>八</td>\n",
       "    </tr>\n",
       "    <tr>\n",
       "      <th>14998</th>\n",
       "      <td>0</td>\n",
       "      <td>0</td>\n",
       "      <td>0</td>\n",
       "      <td>0</td>\n",
       "      <td>0</td>\n",
       "      <td>0</td>\n",
       "      <td>0</td>\n",
       "      <td>0</td>\n",
       "      <td>0</td>\n",
       "      <td>0</td>\n",
       "      <td>...</td>\n",
       "      <td>0</td>\n",
       "      <td>0</td>\n",
       "      <td>0</td>\n",
       "      <td>0</td>\n",
       "      <td>0</td>\n",
       "      <td>0</td>\n",
       "      <td>0</td>\n",
       "      <td>0</td>\n",
       "      <td>8</td>\n",
       "      <td>八</td>\n",
       "    </tr>\n",
       "    <tr>\n",
       "      <th>14999</th>\n",
       "      <td>0</td>\n",
       "      <td>0</td>\n",
       "      <td>0</td>\n",
       "      <td>0</td>\n",
       "      <td>0</td>\n",
       "      <td>0</td>\n",
       "      <td>0</td>\n",
       "      <td>0</td>\n",
       "      <td>0</td>\n",
       "      <td>0</td>\n",
       "      <td>...</td>\n",
       "      <td>0</td>\n",
       "      <td>0</td>\n",
       "      <td>0</td>\n",
       "      <td>0</td>\n",
       "      <td>0</td>\n",
       "      <td>0</td>\n",
       "      <td>0</td>\n",
       "      <td>0</td>\n",
       "      <td>8</td>\n",
       "      <td>八</td>\n",
       "    </tr>\n",
       "  </tbody>\n",
       "</table>\n",
       "<p>15000 rows × 4098 columns</p>\n",
       "</div>"
      ],
      "text/plain": [
       "       pixel_0  pixel_1  pixel_2  pixel_3  pixel_4  pixel_5  pixel_6  pixel_7  \\\n",
       "0            0        0        0        0        0        0        0        0   \n",
       "1            0        0        0        0        0        0        0        0   \n",
       "2            0        0        0        0        0        0        0        0   \n",
       "3            0        0        0        0        0        0        0        0   \n",
       "4            0        0        0        0        0        0        0        0   \n",
       "...        ...      ...      ...      ...      ...      ...      ...      ...   \n",
       "14995        0        0        0        0        0        0        0        0   \n",
       "14996        0        0        0        0        0        0        0        0   \n",
       "14997        0        0        0        0        0        0        0        0   \n",
       "14998        0        0        0        0        0        0        0        0   \n",
       "14999        0        0        0        0        0        0        0        0   \n",
       "\n",
       "       pixel_8  pixel_9  ...  pixel_4088  pixel_4089  pixel_4090  pixel_4091  \\\n",
       "0            0        0  ...           0           0           0           0   \n",
       "1            0        0  ...           0           0           0           0   \n",
       "2            0        0  ...           0           0           0           0   \n",
       "3            0        0  ...           0           0           0           0   \n",
       "4            0        0  ...           0           0           0           0   \n",
       "...        ...      ...  ...         ...         ...         ...         ...   \n",
       "14995        0        0  ...           0           0           0           0   \n",
       "14996        0        0  ...           0           0           0           0   \n",
       "14997        0        0  ...           0           0           0           0   \n",
       "14998        0        0  ...           0           0           0           0   \n",
       "14999        0        0  ...           0           0           0           0   \n",
       "\n",
       "       pixel_4092  pixel_4093  pixel_4094  pixel_4095  label  character  \n",
       "0               0           0           0           0      9          九  \n",
       "1               0           0           0           0      9          九  \n",
       "2               0           0           0           0      9          九  \n",
       "3               0           0           0           0      9          九  \n",
       "4               0           0           0           0      9          九  \n",
       "...           ...         ...         ...         ...    ...        ...  \n",
       "14995           0           0           0           0      8          八  \n",
       "14996           0           0           0           0      8          八  \n",
       "14997           0           0           0           0      8          八  \n",
       "14998           0           0           0           0      8          八  \n",
       "14999           0           0           0           0      8          八  \n",
       "\n",
       "[15000 rows x 4098 columns]"
      ]
     },
     "execution_count": 16,
     "metadata": {},
     "output_type": "execute_result"
    }
   ],
   "source": [
    "df2 = pd.read_csv('/kaggle/input/chinese-mnist-digit-recognizer/chineseMNIST.csv')\n",
    "df2"
   ]
  },
  {
   "cell_type": "code",
   "execution_count": 17,
   "id": "9e5f9ca2",
   "metadata": {
    "execution": {
     "iopub.execute_input": "2022-11-14T13:40:59.277725Z",
     "iopub.status.busy": "2022-11-14T13:40:59.277319Z",
     "iopub.status.idle": "2022-11-14T13:40:59.497660Z",
     "shell.execute_reply": "2022-11-14T13:40:59.496471Z"
    },
    "papermill": {
     "duration": 0.261696,
     "end_time": "2022-11-14T13:40:59.500035",
     "exception": false,
     "start_time": "2022-11-14T13:40:59.238339",
     "status": "completed"
    },
    "tags": []
   },
   "outputs": [
    {
     "data": {
      "text/plain": [
       "((15000, 4096), (15000,))"
      ]
     },
     "execution_count": 17,
     "metadata": {},
     "output_type": "execute_result"
    }
   ],
   "source": [
    "X2 = df2.drop(columns=['label','character']).to_numpy()\n",
    "y2 = df2['label'].to_numpy()\n",
    "characters = df2['character']\n",
    "X2.shape, y2.shape"
   ]
  },
  {
   "cell_type": "code",
   "execution_count": 18,
   "id": "29c307d2",
   "metadata": {
    "execution": {
     "iopub.execute_input": "2022-11-14T13:40:59.578477Z",
     "iopub.status.busy": "2022-11-14T13:40:59.578068Z",
     "iopub.status.idle": "2022-11-14T13:40:59.584942Z",
     "shell.execute_reply": "2022-11-14T13:40:59.584119Z"
    },
    "papermill": {
     "duration": 0.048853,
     "end_time": "2022-11-14T13:40:59.587397",
     "exception": false,
     "start_time": "2022-11-14T13:40:59.538544",
     "status": "completed"
    },
    "tags": []
   },
   "outputs": [
    {
     "data": {
      "text/plain": [
       "array([        0,         1,         2,         3,         4,         5,\n",
       "               6,         7,         8,         9,        10,       100,\n",
       "            1000,     10000, 100000000])"
      ]
     },
     "execution_count": 18,
     "metadata": {},
     "output_type": "execute_result"
    }
   ],
   "source": [
    "np.unique(y2)"
   ]
  },
  {
   "cell_type": "code",
   "execution_count": 19,
   "id": "0570aaef",
   "metadata": {
    "execution": {
     "iopub.execute_input": "2022-11-14T13:40:59.668438Z",
     "iopub.status.busy": "2022-11-14T13:40:59.667715Z",
     "iopub.status.idle": "2022-11-14T13:40:59.673119Z",
     "shell.execute_reply": "2022-11-14T13:40:59.671990Z"
    },
    "papermill": {
     "duration": 0.047236,
     "end_time": "2022-11-14T13:40:59.675494",
     "exception": false,
     "start_time": "2022-11-14T13:40:59.628258",
     "status": "completed"
    },
    "tags": []
   },
   "outputs": [],
   "source": [
    "y2[y2 == 100] = 11\n",
    "y2[y2 == 1000] = 12\n",
    "y2[y2 == 10000] = 13\n",
    "y2[y2 == 100000000] = 14"
   ]
  },
  {
   "cell_type": "code",
   "execution_count": 20,
   "id": "dc476bca",
   "metadata": {
    "execution": {
     "iopub.execute_input": "2022-11-14T13:40:59.751404Z",
     "iopub.status.busy": "2022-11-14T13:40:59.750931Z",
     "iopub.status.idle": "2022-11-14T13:40:59.866220Z",
     "shell.execute_reply": "2022-11-14T13:40:59.864833Z"
    },
    "papermill": {
     "duration": 0.157529,
     "end_time": "2022-11-14T13:40:59.870358",
     "exception": false,
     "start_time": "2022-11-14T13:40:59.712829",
     "status": "completed"
    },
    "tags": []
   },
   "outputs": [
    {
     "data": {
      "image/png": "[encoded data removed]",
      "text/plain": [
       "<Figure size 576x576 with 1 Axes>"
      ]
     },
     "metadata": {},
     "output_type": "display_data"
    }
   ],
   "source": [
    "plt.figure(figsize=(8,8))\n",
    "plt.imshow(X2[24,:].reshape((64,64)),cmap='gray')\n",
    "plt.xticks([])\n",
    "plt.yticks([]);"
   ]
  },
  {
   "cell_type": "code",
   "execution_count": 21,
   "id": "c97fe792",
   "metadata": {
    "execution": {
     "iopub.execute_input": "2022-11-14T13:40:59.989696Z",
     "iopub.status.busy": "2022-11-14T13:40:59.988716Z",
     "iopub.status.idle": "2022-11-14T13:41:00.746972Z",
     "shell.execute_reply": "2022-11-14T13:41:00.746151Z"
    },
    "papermill": {
     "duration": 0.801792,
     "end_time": "2022-11-14T13:41:00.749598",
     "exception": false,
     "start_time": "2022-11-14T13:40:59.947806",
     "status": "completed"
    },
    "tags": []
   },
   "outputs": [],
   "source": [
    "X2_scaled = MinMaxScaler().fit_transform(X2)"
   ]
  },
  {
   "cell_type": "code",
   "execution_count": 22,
   "id": "c6f2860d",
   "metadata": {
    "execution": {
     "iopub.execute_input": "2022-11-14T13:41:00.829207Z",
     "iopub.status.busy": "2022-11-14T13:41:00.828582Z",
     "iopub.status.idle": "2022-11-14T13:41:01.640338Z",
     "shell.execute_reply": "2022-11-14T13:41:01.639041Z"
    },
    "papermill": {
     "duration": 0.854415,
     "end_time": "2022-11-14T13:41:01.643155",
     "exception": false,
     "start_time": "2022-11-14T13:41:00.788740",
     "status": "completed"
    },
    "tags": []
   },
   "outputs": [
    {
     "data": {
      "text/plain": [
       "((11250, 4096), (3750, 4096), (11250,), (3750,))"
      ]
     },
     "execution_count": 22,
     "metadata": {},
     "output_type": "execute_result"
    }
   ],
   "source": [
    "X2_train, X2_test, y2_train, y2_test = train_test_split(X2_scaled,y2,train_size=0.75,random_state=234)\n",
    "X2_train.shape, X2_test.shape, y2_train.shape, y2_test.shape"
   ]
  },
  {
   "cell_type": "code",
   "execution_count": 23,
   "id": "cfab20b8",
   "metadata": {
    "execution": {
     "iopub.execute_input": "2022-11-14T13:41:01.724171Z",
     "iopub.status.busy": "2022-11-14T13:41:01.723801Z",
     "iopub.status.idle": "2022-11-14T13:41:05.662375Z",
     "shell.execute_reply": "2022-11-14T13:41:05.661273Z"
    },
    "papermill": {
     "duration": 3.98192,
     "end_time": "2022-11-14T13:41:05.664931",
     "exception": false,
     "start_time": "2022-11-14T13:41:01.683011",
     "status": "completed"
    },
    "tags": []
   },
   "outputs": [
    {
     "name": "stdout",
     "output_type": "stream",
     "text": [
      "Epoch 1/5\n",
      "352/352 [==============================] - 1s 2ms/step - loss: 2.2981 - accuracy: 0.3274\n",
      "Epoch 2/5\n",
      "352/352 [==============================] - 1s 2ms/step - loss: 1.9392 - accuracy: 0.4811\n",
      "Epoch 3/5\n",
      "352/352 [==============================] - 1s 2ms/step - loss: 1.7931 - accuracy: 0.5155\n",
      "Epoch 4/5\n",
      "352/352 [==============================] - 1s 2ms/step - loss: 1.7015 - accuracy: 0.5348\n",
      "Epoch 5/5\n",
      "352/352 [==============================] - 1s 2ms/step - loss: 1.6338 - accuracy: 0.5523\n"
     ]
    },
    {
     "data": {
      "text/plain": [
       "<keras.callbacks.History at 0x7f392b74c3d0>"
      ]
     },
     "execution_count": 23,
     "metadata": {},
     "output_type": "execute_result"
    }
   ],
   "source": [
    "model3 = keras.Sequential([\n",
    "    keras.layers.Dense(15,input_shape=(4096,),activation='sigmoid')\n",
    "])\n",
    "\n",
    "model3.compile(optimizer='adam',loss='sparse_categorical_crossentropy',metrics=['accuracy'])\n",
    "\n",
    "model3.fit(X2_train,y2_train,epochs=5)"
   ]
  },
  {
   "cell_type": "code",
   "execution_count": 24,
   "id": "f23c5f01",
   "metadata": {
    "execution": {
     "iopub.execute_input": "2022-11-14T13:41:05.755206Z",
     "iopub.status.busy": "2022-11-14T13:41:05.753960Z",
     "iopub.status.idle": "2022-11-14T13:41:06.159996Z",
     "shell.execute_reply": "2022-11-14T13:41:06.158644Z"
    },
    "papermill": {
     "duration": 0.453421,
     "end_time": "2022-11-14T13:41:06.162711",
     "exception": false,
     "start_time": "2022-11-14T13:41:05.709290",
     "status": "completed"
    },
    "tags": []
   },
   "outputs": [
    {
     "name": "stdout",
     "output_type": "stream",
     "text": [
      "118/118 [==============================] - 0s 1ms/step - loss: 1.8097 - accuracy: 0.4976\n"
     ]
    },
    {
     "data": {
      "text/plain": [
       "[1.809702754020691, 0.4975999891757965]"
      ]
     },
     "execution_count": 24,
     "metadata": {},
     "output_type": "execute_result"
    }
   ],
   "source": [
    "model3.evaluate(X2_test,y2_test)"
   ]
  },
  {
   "cell_type": "code",
   "execution_count": 25,
   "id": "9881778e",
   "metadata": {
    "execution": {
     "iopub.execute_input": "2022-11-14T13:41:06.254990Z",
     "iopub.status.busy": "2022-11-14T13:41:06.254251Z",
     "iopub.status.idle": "2022-11-14T13:41:28.579669Z",
     "shell.execute_reply": "2022-11-14T13:41:28.578890Z"
    },
    "papermill": {
     "duration": 22.37374,
     "end_time": "2022-11-14T13:41:28.581828",
     "exception": false,
     "start_time": "2022-11-14T13:41:06.208088",
     "status": "completed"
    },
    "tags": []
   },
   "outputs": [
    {
     "name": "stdout",
     "output_type": "stream",
     "text": [
      "Epoch 1/15\n",
      "352/352 [==============================] - 2s 4ms/step - loss: 1.8228 - accuracy: 0.4149\n",
      "Epoch 2/15\n",
      "352/352 [==============================] - 1s 4ms/step - loss: 0.8580 - accuracy: 0.7221\n",
      "Epoch 3/15\n",
      "352/352 [==============================] - 1s 4ms/step - loss: 0.5073 - accuracy: 0.8325\n",
      "Epoch 4/15\n",
      "352/352 [==============================] - 1s 4ms/step - loss: 0.3343 - accuracy: 0.8889\n",
      "Epoch 5/15\n",
      "352/352 [==============================] - 1s 4ms/step - loss: 0.2237 - accuracy: 0.9277\n",
      "Epoch 6/15\n",
      "352/352 [==============================] - 1s 4ms/step - loss: 0.1608 - accuracy: 0.9472\n",
      "Epoch 7/15\n",
      "352/352 [==============================] - 1s 4ms/step - loss: 0.1234 - accuracy: 0.9629\n",
      "Epoch 8/15\n",
      "352/352 [==============================] - 1s 4ms/step - loss: 0.1067 - accuracy: 0.9666\n",
      "Epoch 9/15\n",
      "352/352 [==============================] - 1s 4ms/step - loss: 0.0861 - accuracy: 0.9725\n",
      "Epoch 10/15\n",
      "352/352 [==============================] - 1s 4ms/step - loss: 0.0546 - accuracy: 0.9844\n",
      "Epoch 11/15\n",
      "352/352 [==============================] - 1s 4ms/step - loss: 0.0568 - accuracy: 0.9829\n",
      "Epoch 12/15\n",
      "352/352 [==============================] - 1s 4ms/step - loss: 0.0639 - accuracy: 0.9799\n",
      "Epoch 13/15\n",
      "352/352 [==============================] - 1s 4ms/step - loss: 0.0646 - accuracy: 0.9796\n",
      "Epoch 14/15\n",
      "352/352 [==============================] - 2s 4ms/step - loss: 0.0515 - accuracy: 0.9849\n",
      "Epoch 15/15\n",
      "352/352 [==============================] - 1s 4ms/step - loss: 0.0477 - accuracy: 0.9846\n"
     ]
    },
    {
     "data": {
      "text/plain": [
       "<keras.callbacks.History at 0x7f39266c6510>"
      ]
     },
     "execution_count": 25,
     "metadata": {},
     "output_type": "execute_result"
    }
   ],
   "source": [
    "model4 = keras.Sequential([\n",
    "    keras.layers.Dense(100,input_shape=(4096,),activation='relu'),\n",
    "    keras.layers.Dense(80,activation='relu'),\n",
    "    keras.layers.Dense(65,activation='relu'),\n",
    "    keras.layers.Dense(15,activation='softmax')\n",
    "])\n",
    "\n",
    "model4.compile(optimizer='adam',loss='sparse_categorical_crossentropy',metrics=['accuracy'])\n",
    "\n",
    "model4.fit(X2_train,y2_train,epochs=15)"
   ]
  },
  {
   "cell_type": "code",
   "execution_count": 26,
   "id": "de2c17ff",
   "metadata": {
    "execution": {
     "iopub.execute_input": "2022-11-14T13:41:28.722933Z",
     "iopub.status.busy": "2022-11-14T13:41:28.722357Z",
     "iopub.status.idle": "2022-11-14T13:41:29.191365Z",
     "shell.execute_reply": "2022-11-14T13:41:29.190104Z"
    },
    "papermill": {
     "duration": 0.542075,
     "end_time": "2022-11-14T13:41:29.193784",
     "exception": false,
     "start_time": "2022-11-14T13:41:28.651709",
     "status": "completed"
    },
    "tags": []
   },
   "outputs": [
    {
     "name": "stdout",
     "output_type": "stream",
     "text": [
      "118/118 [==============================] - 0s 2ms/step - loss: 1.3005 - accuracy: 0.7851\n"
     ]
    },
    {
     "data": {
      "text/plain": [
       "[1.3004765510559082, 0.7850666642189026]"
      ]
     },
     "execution_count": 26,
     "metadata": {},
     "output_type": "execute_result"
    }
   ],
   "source": [
    "model4.evaluate(X2_test,y2_test)"
   ]
  },
  {
   "cell_type": "code",
   "execution_count": 27,
   "id": "793ffd4c",
   "metadata": {
    "execution": {
     "iopub.execute_input": "2022-11-14T13:41:29.334722Z",
     "iopub.status.busy": "2022-11-14T13:41:29.334309Z",
     "iopub.status.idle": "2022-11-14T13:41:29.649279Z",
     "shell.execute_reply": "2022-11-14T13:41:29.648290Z"
    },
    "papermill": {
     "duration": 0.388391,
     "end_time": "2022-11-14T13:41:29.651711",
     "exception": false,
     "start_time": "2022-11-14T13:41:29.263320",
     "status": "completed"
    },
    "tags": []
   },
   "outputs": [],
   "source": [
    "y2_predict = [np.argmax(i) for i in model4.predict(X2_test)]"
   ]
  },
  {
   "cell_type": "code",
   "execution_count": 28,
   "id": "88738548",
   "metadata": {
    "execution": {
     "iopub.execute_input": "2022-11-14T13:41:29.805825Z",
     "iopub.status.busy": "2022-11-14T13:41:29.804867Z",
     "iopub.status.idle": "2022-11-14T13:41:31.239681Z",
     "shell.execute_reply": "2022-11-14T13:41:31.238853Z"
    },
    "papermill": {
     "duration": 1.512416,
     "end_time": "2022-11-14T13:41:31.242036",
     "exception": false,
     "start_time": "2022-11-14T13:41:29.729620",
     "status": "completed"
    },
    "tags": []
   },
   "outputs": [
    {
     "data": {
      "image/png": "[encoded data removed]",
      "text/plain": [
       "<Figure size 720x576 with 2 Axes>"
      ]
     },
     "metadata": {
      "needs_background": "light"
     },
     "output_type": "display_data"
    }
   ],
   "source": [
    "confusion_matrix2 = tf.math.confusion_matrix(labels=y2_test,predictions=y2_predict)\n",
    "plt.figure(figsize=(10,8))\n",
    "sns.heatmap(confusion_matrix2,annot=True)\n",
    "plt.xlabel('Predicted')\n",
    "plt.ylabel('Truth');"
   ]
  },
  {
   "cell_type": "code",
   "execution_count": 29,
   "id": "313db3da",
   "metadata": {
    "execution": {
     "iopub.execute_input": "2022-11-14T13:41:31.411880Z",
     "iopub.status.busy": "2022-11-14T13:41:31.411119Z",
     "iopub.status.idle": "2022-11-14T13:41:37.593571Z",
     "shell.execute_reply": "2022-11-14T13:41:37.592420Z"
    },
    "papermill": {
     "duration": 6.264902,
     "end_time": "2022-11-14T13:41:37.596080",
     "exception": false,
     "start_time": "2022-11-14T13:41:31.331178",
     "status": "completed"
    },
    "tags": []
   },
   "outputs": [
    {
     "data": {
      "text/html": [
       "<div>\n",
       "<style scoped>\n",
       "    .dataframe tbody tr th:only-of-type {\n",
       "        vertical-align: middle;\n",
       "    }\n",
       "\n",
       "    .dataframe tbody tr th {\n",
       "        vertical-align: top;\n",
       "    }\n",
       "\n",
       "    .dataframe thead th {\n",
       "        text-align: right;\n",
       "    }\n",
       "</style>\n",
       "<table border=\"1\" class=\"dataframe\">\n",
       "  <thead>\n",
       "    <tr style=\"text-align: right;\">\n",
       "      <th></th>\n",
       "      <th>label</th>\n",
       "      <th>pixel1</th>\n",
       "      <th>pixel2</th>\n",
       "      <th>pixel3</th>\n",
       "      <th>pixel4</th>\n",
       "      <th>pixel5</th>\n",
       "      <th>pixel6</th>\n",
       "      <th>pixel7</th>\n",
       "      <th>pixel8</th>\n",
       "      <th>pixel9</th>\n",
       "      <th>...</th>\n",
       "      <th>pixel775</th>\n",
       "      <th>pixel776</th>\n",
       "      <th>pixel777</th>\n",
       "      <th>pixel778</th>\n",
       "      <th>pixel779</th>\n",
       "      <th>pixel780</th>\n",
       "      <th>pixel781</th>\n",
       "      <th>pixel782</th>\n",
       "      <th>pixel783</th>\n",
       "      <th>pixel784</th>\n",
       "    </tr>\n",
       "  </thead>\n",
       "  <tbody>\n",
       "    <tr>\n",
       "      <th>0</th>\n",
       "      <td>2</td>\n",
       "      <td>0</td>\n",
       "      <td>0</td>\n",
       "      <td>0</td>\n",
       "      <td>0</td>\n",
       "      <td>0</td>\n",
       "      <td>0</td>\n",
       "      <td>0</td>\n",
       "      <td>0</td>\n",
       "      <td>0</td>\n",
       "      <td>...</td>\n",
       "      <td>0</td>\n",
       "      <td>0</td>\n",
       "      <td>0</td>\n",
       "      <td>0</td>\n",
       "      <td>0</td>\n",
       "      <td>0</td>\n",
       "      <td>0</td>\n",
       "      <td>0</td>\n",
       "      <td>0</td>\n",
       "      <td>0</td>\n",
       "    </tr>\n",
       "    <tr>\n",
       "      <th>1</th>\n",
       "      <td>9</td>\n",
       "      <td>0</td>\n",
       "      <td>0</td>\n",
       "      <td>0</td>\n",
       "      <td>0</td>\n",
       "      <td>0</td>\n",
       "      <td>0</td>\n",
       "      <td>0</td>\n",
       "      <td>0</td>\n",
       "      <td>0</td>\n",
       "      <td>...</td>\n",
       "      <td>0</td>\n",
       "      <td>0</td>\n",
       "      <td>0</td>\n",
       "      <td>0</td>\n",
       "      <td>0</td>\n",
       "      <td>0</td>\n",
       "      <td>0</td>\n",
       "      <td>0</td>\n",
       "      <td>0</td>\n",
       "      <td>0</td>\n",
       "    </tr>\n",
       "    <tr>\n",
       "      <th>2</th>\n",
       "      <td>6</td>\n",
       "      <td>0</td>\n",
       "      <td>0</td>\n",
       "      <td>0</td>\n",
       "      <td>0</td>\n",
       "      <td>0</td>\n",
       "      <td>0</td>\n",
       "      <td>0</td>\n",
       "      <td>5</td>\n",
       "      <td>0</td>\n",
       "      <td>...</td>\n",
       "      <td>0</td>\n",
       "      <td>0</td>\n",
       "      <td>0</td>\n",
       "      <td>30</td>\n",
       "      <td>43</td>\n",
       "      <td>0</td>\n",
       "      <td>0</td>\n",
       "      <td>0</td>\n",
       "      <td>0</td>\n",
       "      <td>0</td>\n",
       "    </tr>\n",
       "    <tr>\n",
       "      <th>3</th>\n",
       "      <td>0</td>\n",
       "      <td>0</td>\n",
       "      <td>0</td>\n",
       "      <td>0</td>\n",
       "      <td>1</td>\n",
       "      <td>2</td>\n",
       "      <td>0</td>\n",
       "      <td>0</td>\n",
       "      <td>0</td>\n",
       "      <td>0</td>\n",
       "      <td>...</td>\n",
       "      <td>3</td>\n",
       "      <td>0</td>\n",
       "      <td>0</td>\n",
       "      <td>0</td>\n",
       "      <td>0</td>\n",
       "      <td>1</td>\n",
       "      <td>0</td>\n",
       "      <td>0</td>\n",
       "      <td>0</td>\n",
       "      <td>0</td>\n",
       "    </tr>\n",
       "    <tr>\n",
       "      <th>4</th>\n",
       "      <td>3</td>\n",
       "      <td>0</td>\n",
       "      <td>0</td>\n",
       "      <td>0</td>\n",
       "      <td>0</td>\n",
       "      <td>0</td>\n",
       "      <td>0</td>\n",
       "      <td>0</td>\n",
       "      <td>0</td>\n",
       "      <td>0</td>\n",
       "      <td>...</td>\n",
       "      <td>0</td>\n",
       "      <td>0</td>\n",
       "      <td>0</td>\n",
       "      <td>0</td>\n",
       "      <td>0</td>\n",
       "      <td>0</td>\n",
       "      <td>0</td>\n",
       "      <td>0</td>\n",
       "      <td>0</td>\n",
       "      <td>0</td>\n",
       "    </tr>\n",
       "    <tr>\n",
       "      <th>...</th>\n",
       "      <td>...</td>\n",
       "      <td>...</td>\n",
       "      <td>...</td>\n",
       "      <td>...</td>\n",
       "      <td>...</td>\n",
       "      <td>...</td>\n",
       "      <td>...</td>\n",
       "      <td>...</td>\n",
       "      <td>...</td>\n",
       "      <td>...</td>\n",
       "      <td>...</td>\n",
       "      <td>...</td>\n",
       "      <td>...</td>\n",
       "      <td>...</td>\n",
       "      <td>...</td>\n",
       "      <td>...</td>\n",
       "      <td>...</td>\n",
       "      <td>...</td>\n",
       "      <td>...</td>\n",
       "      <td>...</td>\n",
       "      <td>...</td>\n",
       "    </tr>\n",
       "    <tr>\n",
       "      <th>59995</th>\n",
       "      <td>9</td>\n",
       "      <td>0</td>\n",
       "      <td>0</td>\n",
       "      <td>0</td>\n",
       "      <td>0</td>\n",
       "      <td>0</td>\n",
       "      <td>0</td>\n",
       "      <td>0</td>\n",
       "      <td>0</td>\n",
       "      <td>0</td>\n",
       "      <td>...</td>\n",
       "      <td>0</td>\n",
       "      <td>0</td>\n",
       "      <td>0</td>\n",
       "      <td>0</td>\n",
       "      <td>0</td>\n",
       "      <td>0</td>\n",
       "      <td>0</td>\n",
       "      <td>0</td>\n",
       "      <td>0</td>\n",
       "      <td>0</td>\n",
       "    </tr>\n",
       "    <tr>\n",
       "      <th>59996</th>\n",
       "      <td>1</td>\n",
       "      <td>0</td>\n",
       "      <td>0</td>\n",
       "      <td>0</td>\n",
       "      <td>0</td>\n",
       "      <td>0</td>\n",
       "      <td>0</td>\n",
       "      <td>0</td>\n",
       "      <td>0</td>\n",
       "      <td>0</td>\n",
       "      <td>...</td>\n",
       "      <td>73</td>\n",
       "      <td>0</td>\n",
       "      <td>0</td>\n",
       "      <td>0</td>\n",
       "      <td>0</td>\n",
       "      <td>0</td>\n",
       "      <td>0</td>\n",
       "      <td>0</td>\n",
       "      <td>0</td>\n",
       "      <td>0</td>\n",
       "    </tr>\n",
       "    <tr>\n",
       "      <th>59997</th>\n",
       "      <td>8</td>\n",
       "      <td>0</td>\n",
       "      <td>0</td>\n",
       "      <td>0</td>\n",
       "      <td>0</td>\n",
       "      <td>0</td>\n",
       "      <td>0</td>\n",
       "      <td>0</td>\n",
       "      <td>0</td>\n",
       "      <td>0</td>\n",
       "      <td>...</td>\n",
       "      <td>160</td>\n",
       "      <td>162</td>\n",
       "      <td>163</td>\n",
       "      <td>135</td>\n",
       "      <td>94</td>\n",
       "      <td>0</td>\n",
       "      <td>0</td>\n",
       "      <td>0</td>\n",
       "      <td>0</td>\n",
       "      <td>0</td>\n",
       "    </tr>\n",
       "    <tr>\n",
       "      <th>59998</th>\n",
       "      <td>8</td>\n",
       "      <td>0</td>\n",
       "      <td>0</td>\n",
       "      <td>0</td>\n",
       "      <td>0</td>\n",
       "      <td>0</td>\n",
       "      <td>0</td>\n",
       "      <td>0</td>\n",
       "      <td>0</td>\n",
       "      <td>0</td>\n",
       "      <td>...</td>\n",
       "      <td>0</td>\n",
       "      <td>0</td>\n",
       "      <td>0</td>\n",
       "      <td>0</td>\n",
       "      <td>0</td>\n",
       "      <td>0</td>\n",
       "      <td>0</td>\n",
       "      <td>0</td>\n",
       "      <td>0</td>\n",
       "      <td>0</td>\n",
       "    </tr>\n",
       "    <tr>\n",
       "      <th>59999</th>\n",
       "      <td>7</td>\n",
       "      <td>0</td>\n",
       "      <td>0</td>\n",
       "      <td>0</td>\n",
       "      <td>0</td>\n",
       "      <td>0</td>\n",
       "      <td>0</td>\n",
       "      <td>0</td>\n",
       "      <td>0</td>\n",
       "      <td>0</td>\n",
       "      <td>...</td>\n",
       "      <td>0</td>\n",
       "      <td>0</td>\n",
       "      <td>0</td>\n",
       "      <td>0</td>\n",
       "      <td>0</td>\n",
       "      <td>0</td>\n",
       "      <td>0</td>\n",
       "      <td>0</td>\n",
       "      <td>0</td>\n",
       "      <td>0</td>\n",
       "    </tr>\n",
       "  </tbody>\n",
       "</table>\n",
       "<p>60000 rows × 785 columns</p>\n",
       "</div>"
      ],
      "text/plain": [
       "       label  pixel1  pixel2  pixel3  pixel4  pixel5  pixel6  pixel7  pixel8  \\\n",
       "0          2       0       0       0       0       0       0       0       0   \n",
       "1          9       0       0       0       0       0       0       0       0   \n",
       "2          6       0       0       0       0       0       0       0       5   \n",
       "3          0       0       0       0       1       2       0       0       0   \n",
       "4          3       0       0       0       0       0       0       0       0   \n",
       "...      ...     ...     ...     ...     ...     ...     ...     ...     ...   \n",
       "59995      9       0       0       0       0       0       0       0       0   \n",
       "59996      1       0       0       0       0       0       0       0       0   \n",
       "59997      8       0       0       0       0       0       0       0       0   \n",
       "59998      8       0       0       0       0       0       0       0       0   \n",
       "59999      7       0       0       0       0       0       0       0       0   \n",
       "\n",
       "       pixel9  ...  pixel775  pixel776  pixel777  pixel778  pixel779  \\\n",
       "0           0  ...         0         0         0         0         0   \n",
       "1           0  ...         0         0         0         0         0   \n",
       "2           0  ...         0         0         0        30        43   \n",
       "3           0  ...         3         0         0         0         0   \n",
       "4           0  ...         0         0         0         0         0   \n",
       "...       ...  ...       ...       ...       ...       ...       ...   \n",
       "59995       0  ...         0         0         0         0         0   \n",
       "59996       0  ...        73         0         0         0         0   \n",
       "59997       0  ...       160       162       163       135        94   \n",
       "59998       0  ...         0         0         0         0         0   \n",
       "59999       0  ...         0         0         0         0         0   \n",
       "\n",
       "       pixel780  pixel781  pixel782  pixel783  pixel784  \n",
       "0             0         0         0         0         0  \n",
       "1             0         0         0         0         0  \n",
       "2             0         0         0         0         0  \n",
       "3             1         0         0         0         0  \n",
       "4             0         0         0         0         0  \n",
       "...         ...       ...       ...       ...       ...  \n",
       "59995         0         0         0         0         0  \n",
       "59996         0         0         0         0         0  \n",
       "59997         0         0         0         0         0  \n",
       "59998         0         0         0         0         0  \n",
       "59999         0         0         0         0         0  \n",
       "\n",
       "[60000 rows x 785 columns]"
      ]
     },
     "execution_count": 29,
     "metadata": {},
     "output_type": "execute_result"
    }
   ],
   "source": [
    "df3 = pd.read_csv('/kaggle/input/fashionmnist/fashion-mnist_train.csv')\n",
    "df3"
   ]
  },
  {
   "cell_type": "code",
   "execution_count": 30,
   "id": "a0dbd571",
   "metadata": {
    "execution": {
     "iopub.execute_input": "2022-11-14T13:41:37.742183Z",
     "iopub.status.busy": "2022-11-14T13:41:37.741757Z",
     "iopub.status.idle": "2022-11-14T13:41:37.902554Z",
     "shell.execute_reply": "2022-11-14T13:41:37.901320Z"
    },
    "papermill": {
     "duration": 0.236509,
     "end_time": "2022-11-14T13:41:37.905299",
     "exception": false,
     "start_time": "2022-11-14T13:41:37.668790",
     "status": "completed"
    },
    "tags": []
   },
   "outputs": [
    {
     "data": {
      "text/plain": [
       "((60000, 784), (60000,))"
      ]
     },
     "execution_count": 30,
     "metadata": {},
     "output_type": "execute_result"
    }
   ],
   "source": [
    "X3 = df3.drop(columns=['label']).to_numpy()\n",
    "y3 = df3['label'].to_numpy()\n",
    "X3.shape , y3.shape"
   ]
  },
  {
   "cell_type": "code",
   "execution_count": 31,
   "id": "74236161",
   "metadata": {
    "execution": {
     "iopub.execute_input": "2022-11-14T13:41:38.050247Z",
     "iopub.status.busy": "2022-11-14T13:41:38.049127Z",
     "iopub.status.idle": "2022-11-14T13:41:38.170399Z",
     "shell.execute_reply": "2022-11-14T13:41:38.168318Z"
    },
    "papermill": {
     "duration": 0.196872,
     "end_time": "2022-11-14T13:41:38.173442",
     "exception": false,
     "start_time": "2022-11-14T13:41:37.976570",
     "status": "completed"
    },
    "tags": []
   },
   "outputs": [
    {
     "data": {
      "image/png": "[encoded data removed]",
      "text/plain": [
       "<Figure size 576x576 with 1 Axes>"
      ]
     },
     "metadata": {},
     "output_type": "display_data"
    }
   ],
   "source": [
    "plt.figure(figsize=(8,8))\n",
    "plt.imshow(X3[39,:].reshape((28,28)),cmap='gray')\n",
    "plt.xticks([])\n",
    "plt.yticks([]);"
   ]
  },
  {
   "cell_type": "code",
   "execution_count": 32,
   "id": "ca609cc2",
   "metadata": {
    "execution": {
     "iopub.execute_input": "2022-11-14T13:41:38.351047Z",
     "iopub.status.busy": "2022-11-14T13:41:38.350631Z",
     "iopub.status.idle": "2022-11-14T13:41:38.987562Z",
     "shell.execute_reply": "2022-11-14T13:41:38.986396Z"
    },
    "papermill": {
     "duration": 0.712052,
     "end_time": "2022-11-14T13:41:38.989814",
     "exception": false,
     "start_time": "2022-11-14T13:41:38.277762",
     "status": "completed"
    },
    "tags": []
   },
   "outputs": [
    {
     "data": {
      "text/plain": [
       "(0.0, 1.0)"
      ]
     },
     "execution_count": 32,
     "metadata": {},
     "output_type": "execute_result"
    }
   ],
   "source": [
    "X3_scaled = MinMaxScaler().fit_transform(X3)\n",
    "X3_scaled.min(), X3_scaled.max()"
   ]
  },
  {
   "cell_type": "code",
   "execution_count": 33,
   "id": "985a8dc1",
   "metadata": {
    "execution": {
     "iopub.execute_input": "2022-11-14T13:41:39.136459Z",
     "iopub.status.busy": "2022-11-14T13:41:39.135781Z",
     "iopub.status.idle": "2022-11-14T13:41:39.723853Z",
     "shell.execute_reply": "2022-11-14T13:41:39.722764Z"
    },
    "papermill": {
     "duration": 0.664464,
     "end_time": "2022-11-14T13:41:39.726259",
     "exception": false,
     "start_time": "2022-11-14T13:41:39.061795",
     "status": "completed"
    },
    "tags": []
   },
   "outputs": [
    {
     "data": {
      "text/plain": [
       "((31500, 784), (10500, 784), (31500,), (10500,))"
      ]
     },
     "execution_count": 33,
     "metadata": {},
     "output_type": "execute_result"
    }
   ],
   "source": [
    "X3_train, X3_test, y3_train, y3_test = train_test_split(X3_scaled,y3,train_size=0.75,random_state=234)\n",
    "X_train.shape, X_test.shape, y_train.shape, y_test.shape"
   ]
  },
  {
   "cell_type": "code",
   "execution_count": 34,
   "id": "c04c9020",
   "metadata": {
    "execution": {
     "iopub.execute_input": "2022-11-14T13:41:39.871689Z",
     "iopub.status.busy": "2022-11-14T13:41:39.871285Z",
     "iopub.status.idle": "2022-11-14T13:41:39.879850Z",
     "shell.execute_reply": "2022-11-14T13:41:39.879014Z"
    },
    "papermill": {
     "duration": 0.084035,
     "end_time": "2022-11-14T13:41:39.881907",
     "exception": false,
     "start_time": "2022-11-14T13:41:39.797872",
     "status": "completed"
    },
    "tags": []
   },
   "outputs": [
    {
     "data": {
      "text/plain": [
       "array([0, 1, 2, 3, 4, 5, 6, 7, 8, 9])"
      ]
     },
     "execution_count": 34,
     "metadata": {},
     "output_type": "execute_result"
    }
   ],
   "source": [
    "np.unique(y3)"
   ]
  },
  {
   "cell_type": "code",
   "execution_count": 35,
   "id": "0855b644",
   "metadata": {
    "execution": {
     "iopub.execute_input": "2022-11-14T13:41:40.027390Z",
     "iopub.status.busy": "2022-11-14T13:41:40.026663Z",
     "iopub.status.idle": "2022-11-14T13:41:50.917193Z",
     "shell.execute_reply": "2022-11-14T13:41:50.916145Z"
    },
    "papermill": {
     "duration": 10.966102,
     "end_time": "2022-11-14T13:41:50.919886",
     "exception": false,
     "start_time": "2022-11-14T13:41:39.953784",
     "status": "completed"
    },
    "tags": []
   },
   "outputs": [
    {
     "name": "stdout",
     "output_type": "stream",
     "text": [
      "Epoch 1/5\n",
      "1407/1407 [==============================] - 2s 2ms/step - loss: 0.9195 - accuracy: 0.7304\n",
      "Epoch 2/5\n",
      "1407/1407 [==============================] - 2s 2ms/step - loss: 0.5346 - accuracy: 0.8180\n",
      "Epoch 3/5\n",
      "1407/1407 [==============================] - 2s 2ms/step - loss: 0.4786 - accuracy: 0.8349\n",
      "Epoch 4/5\n",
      "1407/1407 [==============================] - 2s 1ms/step - loss: 0.4494 - accuracy: 0.8453\n",
      "Epoch 5/5\n",
      "1407/1407 [==============================] - 2s 1ms/step - loss: 0.4352 - accuracy: 0.8491\n"
     ]
    },
    {
     "data": {
      "text/plain": [
       "<keras.callbacks.History at 0x7f394c318490>"
      ]
     },
     "execution_count": 35,
     "metadata": {},
     "output_type": "execute_result"
    }
   ],
   "source": [
    "model.fit(X3_train,y3_train,epochs=5)"
   ]
  },
  {
   "cell_type": "code",
   "execution_count": 36,
   "id": "6b92043c",
   "metadata": {
    "execution": {
     "iopub.execute_input": "2022-11-14T13:41:51.093206Z",
     "iopub.status.busy": "2022-11-14T13:41:51.092764Z",
     "iopub.status.idle": "2022-11-14T13:41:51.731886Z",
     "shell.execute_reply": "2022-11-14T13:41:51.730639Z"
    },
    "papermill": {
     "duration": 0.728987,
     "end_time": "2022-11-14T13:41:51.734191",
     "exception": false,
     "start_time": "2022-11-14T13:41:51.005204",
     "status": "completed"
    },
    "tags": []
   },
   "outputs": [
    {
     "name": "stdout",
     "output_type": "stream",
     "text": [
      "469/469 [==============================] - 1s 1ms/step - loss: 0.4691 - accuracy: 0.8381\n"
     ]
    },
    {
     "data": {
      "text/plain": [
       "[0.46908608078956604, 0.8381333351135254]"
      ]
     },
     "execution_count": 36,
     "metadata": {},
     "output_type": "execute_result"
    }
   ],
   "source": [
    "model.evaluate(X3_test,y3_test)"
   ]
  },
  {
   "cell_type": "code",
   "execution_count": 37,
   "id": "467bff56",
   "metadata": {
    "execution": {
     "iopub.execute_input": "2022-11-14T13:41:51.908189Z",
     "iopub.status.busy": "2022-11-14T13:41:51.907345Z",
     "iopub.status.idle": "2022-11-14T13:42:27.307957Z",
     "shell.execute_reply": "2022-11-14T13:42:27.306779Z"
    },
    "papermill": {
     "duration": 35.491016,
     "end_time": "2022-11-14T13:42:27.310674",
     "exception": false,
     "start_time": "2022-11-14T13:41:51.819658",
     "status": "completed"
    },
    "tags": []
   },
   "outputs": [
    {
     "name": "stdout",
     "output_type": "stream",
     "text": [
      "Epoch 1/10\n",
      "1407/1407 [==============================] - 4s 2ms/step - loss: 0.5499 - accuracy: 0.8120\n",
      "Epoch 2/10\n",
      "1407/1407 [==============================] - 3s 2ms/step - loss: 0.3905 - accuracy: 0.8566\n",
      "Epoch 3/10\n",
      "1407/1407 [==============================] - 4s 3ms/step - loss: 0.3570 - accuracy: 0.8700\n",
      "Epoch 4/10\n",
      "1407/1407 [==============================] - 4s 2ms/step - loss: 0.3347 - accuracy: 0.8773\n",
      "Epoch 5/10\n",
      "1407/1407 [==============================] - 3s 2ms/step - loss: 0.3161 - accuracy: 0.8852\n",
      "Epoch 6/10\n",
      "1407/1407 [==============================] - 3s 2ms/step - loss: 0.3000 - accuracy: 0.8894\n",
      "Epoch 7/10\n",
      "1407/1407 [==============================] - 3s 2ms/step - loss: 0.2877 - accuracy: 0.8933\n",
      "Epoch 8/10\n",
      "1407/1407 [==============================] - 3s 2ms/step - loss: 0.2791 - accuracy: 0.8971\n",
      "Epoch 9/10\n",
      "1407/1407 [==============================] - 3s 2ms/step - loss: 0.2678 - accuracy: 0.9004\n",
      "Epoch 10/10\n",
      "1407/1407 [==============================] - 4s 3ms/step - loss: 0.2605 - accuracy: 0.9032\n"
     ]
    },
    {
     "data": {
      "text/plain": [
       "<keras.callbacks.History at 0x7f392b3186d0>"
      ]
     },
     "execution_count": 37,
     "metadata": {},
     "output_type": "execute_result"
    }
   ],
   "source": [
    "model2.fit(X3_train,y3_train,epochs=10)"
   ]
  },
  {
   "cell_type": "code",
   "execution_count": 38,
   "id": "a19d1380",
   "metadata": {
    "execution": {
     "iopub.execute_input": "2022-11-14T13:42:27.572199Z",
     "iopub.status.busy": "2022-11-14T13:42:27.571444Z",
     "iopub.status.idle": "2022-11-14T13:42:28.401104Z",
     "shell.execute_reply": "2022-11-14T13:42:28.400092Z"
    },
    "papermill": {
     "duration": 0.963547,
     "end_time": "2022-11-14T13:42:28.403698",
     "exception": false,
     "start_time": "2022-11-14T13:42:27.440151",
     "status": "completed"
    },
    "tags": []
   },
   "outputs": [
    {
     "name": "stdout",
     "output_type": "stream",
     "text": [
      "469/469 [==============================] - 1s 2ms/step - loss: 0.3532 - accuracy: 0.8761\n"
     ]
    },
    {
     "data": {
      "text/plain": [
       "[0.35321539640426636, 0.8761333227157593]"
      ]
     },
     "execution_count": 38,
     "metadata": {},
     "output_type": "execute_result"
    }
   ],
   "source": [
    "model2.evaluate(X3_test,y3_test)"
   ]
  },
  {
   "cell_type": "code",
   "execution_count": 39,
   "id": "d1118d13",
   "metadata": {
    "execution": {
     "iopub.execute_input": "2022-11-14T13:42:28.734079Z",
     "iopub.status.busy": "2022-11-14T13:42:28.733688Z",
     "iopub.status.idle": "2022-11-14T13:42:30.106896Z",
     "shell.execute_reply": "2022-11-14T13:42:30.105784Z"
    },
    "papermill": {
     "duration": 1.506419,
     "end_time": "2022-11-14T13:42:30.109428",
     "exception": false,
     "start_time": "2022-11-14T13:42:28.603009",
     "status": "completed"
    },
    "tags": []
   },
   "outputs": [
    {
     "data": {
      "image/png": "[encoded data removed]",
      "text/plain": [
       "<Figure size 720x576 with 2 Axes>"
      ]
     },
     "metadata": {
      "needs_background": "light"
     },
     "output_type": "display_data"
    }
   ],
   "source": [
    "y3_predict = [np.argmax(i) for i in model2.predict(X3_test)]\n",
    "confusion_matrix3 = tf.math.confusion_matrix(labels=y3_test,predictions=y3_predict)\n",
    "plt.figure(figsize=(10,8))\n",
    "sns.heatmap(confusion_matrix3,annot=True)\n",
    "plt.xlabel('Predicted')\n",
    "plt.ylabel('Truth');"
   ]
  }
 ],
 "metadata": {
  "kernelspec": {
   "display_name": "Python 3",
   "language": "python",
   "name": "python3"
  },
  "language_info": {
   "codemirror_mode": {
    "name": "ipython",
    "version": 3
   },
   "file_extension": ".py",
   "mimetype": "text/x-python",
   "name": "python",
   "nbconvert_exporter": "python",
   "pygments_lexer": "ipython3",
   "version": "3.7.12"
  },
  "papermill": {
   "default_parameters": {},
   "duration": 151.202851,
   "end_time": "2022-11-14T13:42:33.155543",
   "environment_variables": {},
   "exception": null,
   "input_path": "__notebook__.ipynb",
   "output_path": "__notebook__.ipynb",
   "parameters": {},
   "start_time": "2022-11-14T13:40:01.952692",
   "version": "2.3.4"
  }
 },
 "nbformat": 4,
 "nbformat_minor": 5
}
