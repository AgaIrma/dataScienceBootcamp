{
 "cells": [
  {
   "cell_type": "markdown",
   "id": "1f53cc56",
   "metadata": {},
   "source": [
    "#Tworzymy funkcje poprzez uzywanie slowa def"
   ]
  },
  {
   "cell_type": "code",
   "execution_count": 3,
   "id": "7e1cb3c0",
   "metadata": {},
   "outputs": [],
   "source": [
    "def add(a,b):\n",
    "    return a+b"
   ]
  },
  {
   "cell_type": "markdown",
   "id": "9afe3acb",
   "metadata": {},
   "source": [
    "#Zeby wywolac funkcje nalezy podac jej nazwe i w nawiasach atrybuty"
   ]
  },
  {
   "cell_type": "code",
   "execution_count": 4,
   "id": "72a6e56d",
   "metadata": {},
   "outputs": [
    {
     "data": {
      "text/plain": [
       "11"
      ]
     },
     "execution_count": 4,
     "metadata": {},
     "output_type": "execute_result"
    }
   ],
   "source": [
    "add(5,6)"
   ]
  },
  {
   "cell_type": "code",
   "execution_count": null,
   "id": "18453661",
   "metadata": {},
   "outputs": [],
   "source": []
  }
 ],
 "metadata": {
  "kernelspec": {
   "display_name": "Python 3 (ipykernel)",
   "language": "python",
   "name": "python3"
  },
  "language_info": {
   "codemirror_mode": {
    "name": "ipython",
    "version": 3
   },
   "file_extension": ".py",
   "mimetype": "text/x-python",
   "name": "python",
   "nbconvert_exporter": "python",
   "pygments_lexer": "ipython3",
   "version": "3.10.5"
  }
 },
 "nbformat": 4,
 "nbformat_minor": 5
}
